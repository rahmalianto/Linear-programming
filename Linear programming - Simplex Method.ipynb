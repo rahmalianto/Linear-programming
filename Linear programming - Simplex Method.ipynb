{
 "cells": [
  {
   "cell_type": "code",
   "execution_count": 22,
   "id": "e078cf24-afe2-4a99-b150-8361ac2233e8",
   "metadata": {},
   "outputs": [],
   "source": [
    "import numpy as np\n",
    "from scipy.optimize import linprog\n",
    "\n",
    "import pandas as pd"
   ]
  },
  {
   "cell_type": "code",
   "execution_count": null,
   "id": "49b6c646-5f37-4836-8e2d-2ceecc9d154d",
   "metadata": {},
   "outputs": [],
   "source": []
  },
  {
   "cell_type": "markdown",
   "id": "9de0b354-20b1-4ad4-8071-c5340a56eeec",
   "metadata": {},
   "source": [
    "## Simulation 1\n",
    "max z = 8x1 + 5x2\n",
    "\n",
    "- x1 + x2 <= 6\n",
    "- 9x1 + 5x2 <= 45\n",
    "- x1, x2 >= 0\n",
    "\n",
    "https://www.youtube.com/watch?v=heCeCPu83c0&t=321s "
   ]
  },
  {
   "cell_type": "code",
   "execution_count": 94,
   "id": "08209f9d-b879-4bc4-9a35-20b90ab06e34",
   "metadata": {},
   "outputs": [
    {
     "data": {
      "text/plain": [
       "     con: array([], dtype=float64)\n",
       "     fun: -41.25\n",
       " message: 'Optimization terminated successfully.'\n",
       "     nit: 3\n",
       "   slack: array([0.  , 0.  , 3.75, 2.25])\n",
       "  status: 0\n",
       " success: True\n",
       "       x: array([3.75, 2.25])"
      ]
     },
     "execution_count": 94,
     "metadata": {},
     "output_type": "execute_result"
    }
   ],
   "source": [
    "A = np.array([[1, 1], [9, 5], [-1, 0], [0, -1]])\n",
    "b = np.array([6, 45, 0, 0])\n",
    "c = np.array([-8, -5])\n",
    "\n",
    "res = linprog(c, A_ub=A, b_ub=b, method='simplex')\n",
    "res"
   ]
  },
  {
   "cell_type": "code",
   "execution_count": null,
   "id": "07fe3937-c24b-44a7-8201-e13b7ad13736",
   "metadata": {},
   "outputs": [],
   "source": []
  },
  {
   "cell_type": "markdown",
   "id": "4476a351-ed7c-4018-8b53-c0625b6f2548",
   "metadata": {},
   "source": [
    "## Simulation 2\n",
    "max z = 5x1 + 6x2\n",
    "\n",
    "\n",
    "- 4x1 + 2x2 <= 8\n",
    "- 3x1 + 4x2 <= 12\n",
    "- x1,x2 >= 0\n",
    "\n",
    "https://www.youtube.com/watch?v=DmzVCX1-ZhI"
   ]
  },
  {
   "cell_type": "code",
   "execution_count": 20,
   "id": "6d0a9290-1b05-4960-a570-5f58d12645c4",
   "metadata": {},
   "outputs": [
    {
     "data": {
      "text/plain": [
       "     con: array([], dtype=float64)\n",
       "     fun: -18.4\n",
       " message: 'Optimization terminated successfully.'\n",
       "     nit: 2\n",
       "   slack: array([0. , 0. , 0.8, 2.4])\n",
       "  status: 0\n",
       " success: True\n",
       "       x: array([0.8, 2.4])"
      ]
     },
     "execution_count": 20,
     "metadata": {},
     "output_type": "execute_result"
    }
   ],
   "source": [
    "A = np.array([[4, 2], [3, 4], [-1, 0], [0, -1]])\n",
    "b = np.array([8, 12, 0, 0])\n",
    "c = np.array([-5, -6])\n",
    "\n",
    "res = linprog(c, A_ub=A, b_ub=b, method='simplex')\n",
    "res"
   ]
  },
  {
   "cell_type": "code",
   "execution_count": 21,
   "id": "6e593225-713c-4524-ae3d-67aa8a635ed8",
   "metadata": {},
   "outputs": [
    {
     "data": {
      "text/plain": [
       "array([[ 4,  2],\n",
       "       [ 3,  4],\n",
       "       [-1,  0],\n",
       "       [ 0, -1]])"
      ]
     },
     "execution_count": 21,
     "metadata": {},
     "output_type": "execute_result"
    }
   ],
   "source": [
    "A"
   ]
  },
  {
   "cell_type": "code",
   "execution_count": null,
   "id": "38d09810-51e2-45e5-9e48-53fcd34e658e",
   "metadata": {},
   "outputs": [],
   "source": []
  },
  {
   "cell_type": "markdown",
   "id": "02b9022d-b69b-4619-853c-51ec51a87371",
   "metadata": {},
   "source": [
    "# Simulation 3"
   ]
  },
  {
   "cell_type": "code",
   "execution_count": null,
   "id": "8a1b493c-d9bc-46e3-a9eb-d6b2972aa0ea",
   "metadata": {},
   "outputs": [],
   "source": []
  },
  {
   "cell_type": "code",
   "execution_count": 92,
   "id": "d9dfdc65-5607-491f-9fd4-3aef94ac9ee2",
   "metadata": {},
   "outputs": [
    {
     "data": {
      "text/plain": [
       "     con: array([], dtype=float64)\n",
       "     fun: -3066.6666666666665\n",
       " message: 'Optimization terminated successfully.'\n",
       "     nit: 2\n",
       "   slack: array([ 0.        ,  0.        , 13.33333333,  3.33333333])\n",
       "  status: 0\n",
       " success: True\n",
       "       x: array([13.33333333,  3.33333333])"
      ]
     },
     "execution_count": 92,
     "metadata": {},
     "output_type": "execute_result"
    }
   ],
   "source": [
    "A = np.array([[5, 4], [10, 20], [-1, 0], [0, -1]])\n",
    "b = np.array([80, 200, 0, 0])\n",
    "c = np.array([-180, -200])\n",
    "\n",
    "res = linprog(c, A_ub=A, b_ub=b, method='simplex')\n",
    "res "
   ]
  },
  {
   "cell_type": "code",
   "execution_count": null,
   "id": "56157fd9-ff4d-4d1b-ac4c-47df7fb982c2",
   "metadata": {},
   "outputs": [],
   "source": []
  },
  {
   "cell_type": "code",
   "execution_count": null,
   "id": "aeb8338d-19cb-4f36-a4c8-41c8b2479801",
   "metadata": {},
   "outputs": [],
   "source": []
  },
  {
   "cell_type": "code",
   "execution_count": 45,
   "id": "c12b24bc-5e74-4a3d-bedf-46832bfe4c3f",
   "metadata": {},
   "outputs": [
    {
     "data": {
      "text/html": [
       "<div>\n",
       "<style scoped>\n",
       "    .dataframe tbody tr th:only-of-type {\n",
       "        vertical-align: middle;\n",
       "    }\n",
       "\n",
       "    .dataframe tbody tr th {\n",
       "        vertical-align: top;\n",
       "    }\n",
       "\n",
       "    .dataframe thead th {\n",
       "        text-align: right;\n",
       "    }\n",
       "</style>\n",
       "<table border=\"1\" class=\"dataframe\">\n",
       "  <thead>\n",
       "    <tr style=\"text-align: right;\">\n",
       "      <th></th>\n",
       "      <th>No</th>\n",
       "      <th>Tanggal pembibitan</th>\n",
       "      <th>Tanggal penjualan</th>\n",
       "      <th>modal</th>\n",
       "      <th>Vitamin</th>\n",
       "      <th>Pakan halus</th>\n",
       "      <th>Pakan 0.5 ml</th>\n",
       "      <th>Pakan 1ml</th>\n",
       "      <th>Listrik</th>\n",
       "      <th>Gaji Karyawan</th>\n",
       "      <th>harga jual</th>\n",
       "      <th>jumlah terjual</th>\n",
       "      <th>Total penjualan</th>\n",
       "    </tr>\n",
       "  </thead>\n",
       "  <tbody>\n",
       "    <tr>\n",
       "      <th>0</th>\n",
       "      <td>1</td>\n",
       "      <td>2022-07-15</td>\n",
       "      <td>2022-08-28</td>\n",
       "      <td>3000000</td>\n",
       "      <td>65000</td>\n",
       "      <td>600000</td>\n",
       "      <td>250000</td>\n",
       "      <td>230000</td>\n",
       "      <td>200000</td>\n",
       "      <td>3900000</td>\n",
       "      <td>500</td>\n",
       "      <td>50000</td>\n",
       "      <td>25000000</td>\n",
       "    </tr>\n",
       "    <tr>\n",
       "      <th>1</th>\n",
       "      <td>2</td>\n",
       "      <td>2022-07-22</td>\n",
       "      <td>2022-09-04</td>\n",
       "      <td>2250000</td>\n",
       "      <td>50000</td>\n",
       "      <td>450000</td>\n",
       "      <td>180000</td>\n",
       "      <td>175000</td>\n",
       "      <td>200000</td>\n",
       "      <td>3900000</td>\n",
       "      <td>500</td>\n",
       "      <td>37000</td>\n",
       "      <td>18500000</td>\n",
       "    </tr>\n",
       "    <tr>\n",
       "      <th>2</th>\n",
       "      <td>3</td>\n",
       "      <td>2022-07-29</td>\n",
       "      <td>2022-09-11</td>\n",
       "      <td>3500000</td>\n",
       "      <td>75000</td>\n",
       "      <td>700000</td>\n",
       "      <td>290000</td>\n",
       "      <td>270000</td>\n",
       "      <td>200000</td>\n",
       "      <td>3900000</td>\n",
       "      <td>500</td>\n",
       "      <td>58000</td>\n",
       "      <td>29000000</td>\n",
       "    </tr>\n",
       "    <tr>\n",
       "      <th>3</th>\n",
       "      <td>4</td>\n",
       "      <td>2022-08-05</td>\n",
       "      <td>2022-09-18</td>\n",
       "      <td>2750000</td>\n",
       "      <td>60000</td>\n",
       "      <td>550000</td>\n",
       "      <td>210000</td>\n",
       "      <td>200000</td>\n",
       "      <td>200000</td>\n",
       "      <td>3900000</td>\n",
       "      <td>500</td>\n",
       "      <td>45000</td>\n",
       "      <td>22500000</td>\n",
       "    </tr>\n",
       "    <tr>\n",
       "      <th>4</th>\n",
       "      <td>5</td>\n",
       "      <td>2022-08-12</td>\n",
       "      <td>2022-09-25</td>\n",
       "      <td>4800000</td>\n",
       "      <td>105000</td>\n",
       "      <td>960000</td>\n",
       "      <td>400000</td>\n",
       "      <td>380000</td>\n",
       "      <td>200000</td>\n",
       "      <td>3900000</td>\n",
       "      <td>500</td>\n",
       "      <td>80000</td>\n",
       "      <td>40000000</td>\n",
       "    </tr>\n",
       "    <tr>\n",
       "      <th>5</th>\n",
       "      <td>6</td>\n",
       "      <td>2022-08-19</td>\n",
       "      <td>2022-10-02</td>\n",
       "      <td>1500000</td>\n",
       "      <td>35000</td>\n",
       "      <td>310000</td>\n",
       "      <td>130000</td>\n",
       "      <td>120000</td>\n",
       "      <td>200000</td>\n",
       "      <td>3900000</td>\n",
       "      <td>500</td>\n",
       "      <td>26000</td>\n",
       "      <td>13000000</td>\n",
       "    </tr>\n",
       "    <tr>\n",
       "      <th>6</th>\n",
       "      <td>7</td>\n",
       "      <td>2022-08-26</td>\n",
       "      <td>2022-10-09</td>\n",
       "      <td>2200000</td>\n",
       "      <td>45000</td>\n",
       "      <td>430000</td>\n",
       "      <td>180000</td>\n",
       "      <td>165000</td>\n",
       "      <td>200000</td>\n",
       "      <td>3900000</td>\n",
       "      <td>500</td>\n",
       "      <td>36000</td>\n",
       "      <td>18000000</td>\n",
       "    </tr>\n",
       "  </tbody>\n",
       "</table>\n",
       "</div>"
      ],
      "text/plain": [
       "   No Tanggal pembibitan Tanggal penjualan    modal  Vitamin  Pakan halus  \\\n",
       "0   1         2022-07-15        2022-08-28  3000000    65000       600000   \n",
       "1   2         2022-07-22        2022-09-04  2250000    50000       450000   \n",
       "2   3         2022-07-29        2022-09-11  3500000    75000       700000   \n",
       "3   4         2022-08-05        2022-09-18  2750000    60000       550000   \n",
       "4   5         2022-08-12        2022-09-25  4800000   105000       960000   \n",
       "5   6         2022-08-19        2022-10-02  1500000    35000       310000   \n",
       "6   7         2022-08-26        2022-10-09  2200000    45000       430000   \n",
       "\n",
       "   Pakan 0.5 ml  Pakan 1ml  Listrik  Gaji Karyawan  harga jual  \\\n",
       "0        250000     230000   200000        3900000         500   \n",
       "1        180000     175000   200000        3900000         500   \n",
       "2        290000     270000   200000        3900000         500   \n",
       "3        210000     200000   200000        3900000         500   \n",
       "4        400000     380000   200000        3900000         500   \n",
       "5        130000     120000   200000        3900000         500   \n",
       "6        180000     165000   200000        3900000         500   \n",
       "\n",
       "   jumlah terjual  Total penjualan  \n",
       "0           50000         25000000  \n",
       "1           37000         18500000  \n",
       "2           58000         29000000  \n",
       "3           45000         22500000  \n",
       "4           80000         40000000  \n",
       "5           26000         13000000  \n",
       "6           36000         18000000  "
      ]
     },
     "execution_count": 45,
     "metadata": {},
     "output_type": "execute_result"
    }
   ],
   "source": [
    "data = pd.read_excel('Format data.xlsx')\n",
    "data = data[:7]\n",
    "data"
   ]
  },
  {
   "cell_type": "code",
   "execution_count": 79,
   "id": "c3344b67-6fc8-4772-838f-357263aa7b20",
   "metadata": {},
   "outputs": [
    {
     "data": {
      "text/plain": [
       "array([[ 3.00e+06,  6.50e+04,  6.00e+05,  2.50e+05,  2.30e+05,  2.00e+05,\n",
       "         3.90e+06],\n",
       "       [ 2.25e+06,  5.00e+04,  4.50e+05,  1.80e+05,  1.75e+05,  2.00e+05,\n",
       "         3.90e+06],\n",
       "       [ 3.50e+06,  7.50e+04,  7.00e+05,  2.90e+05,  2.70e+05,  2.00e+05,\n",
       "         3.90e+06],\n",
       "       [ 2.75e+06,  6.00e+04,  5.50e+05,  2.10e+05,  2.00e+05,  2.00e+05,\n",
       "         3.90e+06],\n",
       "       [ 4.80e+06,  1.05e+05,  9.60e+05,  4.00e+05,  3.80e+05,  2.00e+05,\n",
       "         3.90e+06],\n",
       "       [ 1.50e+06,  3.50e+04,  3.10e+05,  1.30e+05,  1.20e+05,  2.00e+05,\n",
       "         3.90e+06],\n",
       "       [ 2.20e+06,  4.50e+04,  4.30e+05,  1.80e+05,  1.65e+05,  2.00e+05,\n",
       "         3.90e+06],\n",
       "       [-1.00e+00, -0.00e+00, -0.00e+00, -0.00e+00, -0.00e+00, -0.00e+00,\n",
       "        -0.00e+00],\n",
       "       [-0.00e+00, -1.00e+00, -0.00e+00, -0.00e+00, -0.00e+00, -0.00e+00,\n",
       "        -0.00e+00],\n",
       "       [-0.00e+00, -0.00e+00, -1.00e+00, -0.00e+00, -0.00e+00, -0.00e+00,\n",
       "        -0.00e+00],\n",
       "       [-0.00e+00, -0.00e+00, -0.00e+00, -1.00e+00, -0.00e+00, -0.00e+00,\n",
       "        -0.00e+00],\n",
       "       [-0.00e+00, -0.00e+00, -0.00e+00, -0.00e+00, -1.00e+00, -0.00e+00,\n",
       "        -0.00e+00],\n",
       "       [-0.00e+00, -0.00e+00, -0.00e+00, -0.00e+00, -0.00e+00, -1.00e+00,\n",
       "        -0.00e+00],\n",
       "       [-0.00e+00, -0.00e+00, -0.00e+00, -0.00e+00, -0.00e+00, -0.00e+00,\n",
       "        -1.00e+00]])"
      ]
     },
     "execution_count": 79,
     "metadata": {},
     "output_type": "execute_result"
    }
   ],
   "source": [
    "n = 7\n",
    "diagonal_matrices = -np.eye(7)\n",
    "A = np.append(np.array(data[['modal', 'Vitamin', 'Pakan halus', 'Pakan 0.5 ml', 'Pakan 1ml', 'Listrik', 'Gaji Karyawan']]), diagonal_matrices, axis=0)\n",
    "A\n",
    "# print(A)"
   ]
  },
  {
   "cell_type": "code",
   "execution_count": 80,
   "id": "e8cfeb9b-710d-438a-a8da-3b5fd1f90703",
   "metadata": {},
   "outputs": [
    {
     "data": {
      "text/plain": [
       "array([25000000., 18500000., 29000000., 22500000., 40000000., 13000000.,\n",
       "       18000000.,        0.,        0.,        0.,        0.,        0.,\n",
       "              0.,        0.])"
      ]
     },
     "execution_count": 80,
     "metadata": {},
     "output_type": "execute_result"
    }
   ],
   "source": [
    "b = np.append(np.array(data[['Total penjualan']]), np.zeros(n))\n",
    "b"
   ]
  },
  {
   "cell_type": "code",
   "execution_count": 81,
   "id": "5b2845f0-27d4-44ea-955d-2e19491beea1",
   "metadata": {},
   "outputs": [
    {
     "data": {
      "text/plain": [
       "array([-3000000, -65000, -600000, -250000, -230000, -200000, -3900000],\n",
       "      dtype=object)"
      ]
     },
     "execution_count": 81,
     "metadata": {},
     "output_type": "execute_result"
    }
   ],
   "source": [
    "c = np.array(data.loc[0, ['modal', 'Vitamin', 'Pakan halus', 'Pakan 0.5 ml', 'Pakan 1ml', 'Listrik', 'Gaji Karyawan']]) * -1\n",
    "c"
   ]
  },
  {
   "cell_type": "code",
   "execution_count": 82,
   "id": "e0c87b53-60a7-4ce1-b96c-9ce56d517f5a",
   "metadata": {},
   "outputs": [
    {
     "name": "stderr",
     "output_type": "stream",
     "text": [
      "<ipython-input-82-ecc0766e2add>:1: OptimizeWarning: The pivot operation produces a pivot value of: 4.0e-07, which is only slightly greater than the specified tolerance 1.0e-09. This may lead to issues regarding the numerical stability of the simplex method. Removing redundant constraints, changing the pivot strategy via Bland's rule or increasing the tolerance may help reduce the issue.\n",
      "  res = linprog(c, A_ub=A, b_ub=b, method='simplex')\n"
     ]
    },
    {
     "data": {
      "text/plain": [
       "     con: array([], dtype=float64)\n",
       "     fun: -24931034.482758626\n",
       " message: 'The solution is feasible, but the solver did not report that the solution was optimal. Please try a different method.'\n",
       "     nit: 13\n",
       "   slack: array([ 6.89655172e+04, -3.72529030e-09, -7.45058060e-09,  2.58620690e+05,\n",
       "        2.24137931e+05, -3.72529030e-09,  5.17241379e+04,  0.00000000e+00,\n",
       "        0.00000000e+00,  2.75862069e+01,  3.27586207e+01,  0.00000000e+00,\n",
       "        0.00000000e+00,  4.86295314e-02])\n",
       "  status: 4\n",
       " success: False\n",
       "       x: array([ 0.        ,  0.        , 27.5862069 , 32.75862069,  0.        ,\n",
       "        0.        ,  0.04862953])"
      ]
     },
     "execution_count": 82,
     "metadata": {},
     "output_type": "execute_result"
    }
   ],
   "source": [
    "res = linprog(c, A_ub=A, b_ub=b, method='simplex')\n",
    "res"
   ]
  },
  {
   "cell_type": "code",
   "execution_count": null,
   "id": "1b5be5eb-1880-4eda-95cd-e1d6a819b928",
   "metadata": {},
   "outputs": [],
   "source": []
  }
 ],
 "metadata": {
  "kernelspec": {
   "display_name": "Python 3",
   "language": "python",
   "name": "python3"
  },
  "language_info": {
   "codemirror_mode": {
    "name": "ipython",
    "version": 3
   },
   "file_extension": ".py",
   "mimetype": "text/x-python",
   "name": "python",
   "nbconvert_exporter": "python",
   "pygments_lexer": "ipython3",
   "version": "3.8.8"
  }
 },
 "nbformat": 4,
 "nbformat_minor": 5
}
